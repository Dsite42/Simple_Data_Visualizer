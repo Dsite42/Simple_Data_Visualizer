{
 "cells": [
  {
   "cell_type": "markdown",
   "id": "983ccce9-ace6-4912-8f10-f6837cbc39e5",
   "metadata": {},
   "source": [
    "Read me Markdown"
   ]
  },
  {
   "cell_type": "markdown",
   "id": "cf2df863-b530-4f85-b447-9d5b41ff4a3e",
   "metadata": {},
   "source": [
    "Table of Contents\n",
    "1. About\n",
    "2. Features\n",
    "3. Installation\n",
    "4. Usage and Examples"
   ]
  },
  {
   "cell_type": "markdown",
   "id": "d44b58e2",
   "metadata": {},
   "source": [
    "\n",
    "### 1. About\n",
    "\n",
    "\n",
    "### 2. Features\n",
    "**Plots**  \n",
    "*RelPlots (Seaborn, Plotly, Multiplot)*  \n",
    "Create scatter and line relation plots with kwargs kind, hue, size, style, row, col.\n",
    "\n",
    "*PairPlots (Seaborn, Plotly)*  \n",
    "Create pair plots with kwargs kind, diag_kind, hue, corner.\n",
    "\n",
    "*JointPlot (Seaborn, Plotly, Multiplot)*  \n",
    "Create joint plots with kwargs kind, hue.\n",
    "\n",
    "*DisPlot (Seaborn, Plotly, Multiplot)*  \n",
    "Create distribution plots with kwargs kind, hue, rug, row, col.\n",
    "\n",
    "*CatPlot (Seaborn, Plotly, Multiplot)*  \n",
    "Create categorical plots with kwargs kind, hue, row, col.\n",
    "\n",
    "*LmPlot (Seaborn, Plotly, Multiplot)*  \n",
    "Create linear model plots with kwargs heu, scatter, x_bins, robust, facet_kws, row, col.\n",
    "\n",
    "**Window Features**  \n",
    "*Save Plot* (Seaborn, Plotly))  \n",
    "Click save plot to save the plot as a .png file.\n",
    "\n",
    "*Copy Plot* (Seaborn, Plotly)\n",
    "Click copy plot to copy the plot to the clipboard.\n",
    "\n",
    "*Set Refresh* (Seaborn, Plotly, Multiplot)  \n",
    "Click set refresh to refresh an existing window with the new plot. A window can just be refreshed with the same window type. (Seaborn, Plotly, Multiplot)\n",
    "\n",
    "\n",
    "\n",
    "\n",
    "### 3. Installation\n",
    "\n",
    "### 4. Usage and Examples\n",
    "\n"
   ]
  },
  {
   "cell_type": "markdown",
   "id": "9127bc4e",
   "metadata": {},
   "source": []
  }
 ],
 "metadata": {
  "kernelspec": {
   "display_name": "Python 3 (ipykernel)",
   "language": "python",
   "name": "python3"
  },
  "language_info": {
   "codemirror_mode": {
    "name": "ipython",
    "version": 3
   },
   "file_extension": ".py",
   "mimetype": "text/x-python",
   "name": "python",
   "nbconvert_exporter": "python",
   "pygments_lexer": "ipython3",
   "version": "3.8.18"
  }
 },
 "nbformat": 4,
 "nbformat_minor": 5
}
